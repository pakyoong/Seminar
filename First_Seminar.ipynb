{
 "cells": [
  {
   "cell_type": "markdown",
   "id": "f02975cb",
   "metadata": {},
   "source": [
    "# [Concepts, types, and practices of machine learning]\n",
    "기계학습의 개념과 종류 및 실습\n",
    "\n",
    "## Introduction \n",
    " This seminar aims to explain the basic concepts of machine learning and various learning methods, and I will proceed based on the topics I have practiced. I started studying deep learning, but I felt the need to know about the overall concept of machine learning before studying it, so I started with machine learning. Please note that the content of this seminar may be easy, as I am just starting to learn machine learning.\n",
    " \n",
    " 이번 세미나는 머신러닝에 대한 기본 개념과 다양한 학습방법에 대해 설명하고, 제가 실습해 본 주제를 바탕으로 진행해 보려고 합니다. 딥러닝 공부를 시작했는데, 딥러닝을 공부하기 전에 전체적인 개념인 머신러닝에 대해서 알아야 할 필요가 있다고 느껴 머신러닝부터 공부했습니다. 저는 이제 막 머신러닝을 시작했기에 이번 세미나 내용이 쉬울 수 있다는 점 양해 바랍니다.\n",
    "\n",
    "\n",
    "## What is Machine Learning?\n",
    " Machine learning is a field of artificial intelligence that enables computers to learn from data, discover patterns, and perform predictions or classifications. Instead of explicit programming, the focus is on training computers to learn from data and improve through experience. Machine learning has evolved from various fields such as statistics, optimization theory, and is divided into learning methods such as supervised learning, unsupervised learning, and reinforcement learning.\n",
    "\n",
    " 머신러닝은 컴퓨터가 데이터를 학습하고 패턴을 찾아내어 예측 또는 분류를 수행할 수 있도록 하는 인공지능 분야입니다. 명시적으로 프로그래밍하는 대신, 컴퓨터가 데이터를 통해 학습하고 경험을 통해 개선하도록 훈련하는 것에 중점을 둡니다. 머신러닝은 통계학, 최적화 이론 등 다양한 분야에서 발전되어 왔으며, 지도학습, 비지도학습, 강화학습 등의 학습 방식으로 나뉩니다.\n",
    "\n",
    "<img src = \"img/01.png\" width = \"60%\" height = \"60%\">"
   ]
  },
  {
   "cell_type": "markdown",
   "id": "e46b9a02",
   "metadata": {},
   "source": [
    "## What is Supervised Learning? (지도학습)\n",
    "Supervised learning is a machine learning method that uses labeled data to learn the relationship between inputs and outputs. When receiving new data, it predicts output values using previously learned data. Supervised learning is used to solve problems such as classification, regression, and sequence prediction, and is useful because labeled data exists in real-world problems.\n",
    "\n",
    " 지도학습은 레이블이 달린 데이터를 사용하여 입력과 출력 간의 관계를 학습하는 머신러닝 방법입니다. 새로운 데이터를 입력받았을 때, 이전에 학습한 데이터들을 활용해 출력값을 예측합니다. 지도학습은 분류(classification), 회귀(regression), 시퀀스(sequence) 예측 등의 문제를 해결하는 데에 사용되며, 실제 문제에서 레이블이 있는 데이터가 존재하기 때문에 유용하게 활용됩니다.\n",
    "\n",
    "To briefly explain supervised learning, it can be said that data is learned using the data with the correct answer.\n",
    "\n",
    "간단하게 지도학습에 대해 한 줄로 설명하자면 정답이 있는 데이터를 활용하여 데이터를 학습시킨다고 할 수 있습니다.\n",
    "\n",
    "> Wassification: Refers to the problem of classifying given data according to predefined categories.\n",
    "\n",
    "분류 : 주어진 데이터를 정해진 카테고리에 따라 분류하는 문제를 말합니다\n",
    "\n",
    "> Regression: Predicting continuous values based on the characteristics of some data, mainly used for predicting patterns, trends, or tendencies. \n",
    "\n",
    "회귀 : 어떤 데이터들의 특징을 기준으로 연속된 값을 예측하는 문제로, 주로 어떤 패턴이나 트렌드, 경향을 예측할 때 사용됩니다."
   ]
  },
  {
   "cell_type": "markdown",
   "id": "c8d106d0",
   "metadata": {},
   "source": [
    "## What is Unsupervised Learning? (비지도학습)\n",
    "Unsupervised learning is a machine learning method that discovers and learns the inherent structure in unlabeled data. The goal is to find the features or patterns in the input data itself, with the model making decisions based on the features and patterns of the data without being given the correct answer. Unsupervised learning is mainly used when data is scarce or when the cost of collecting training data is high, and it involves the concepts of clustering and association.\n",
    "\n",
    " 비지도학습은 레이블이 없는 데이터를 사용하여 입력 데이터에 내재된 구조를 발견하고 학습하는 머신러닝 방법입니다. 입력 데이터 자체의 특징이나 패턴을 찾아내는 것이 목표로, 정답을 알려주지 않은 채 데이터의 특징과 패턴을 기반으로 모델이 스스로 판단합니다. 비지도 학습은 데이터 자체가 부족하거나 훈련 데이터를 수집하기에는 비용이 높은 경우에 주로 사용되며, 군집화와 연관이라는 개념이 사용됩니다.\n",
    " \n",
    "> What is Clustering?(군집화) \n",
    "\n",
    "    Clustering is a technique that groups data with similar characteristics into the same group, and is used to discover and analyze the structure or pattern of data. Clustering automatically classifies given data, and each cluster shares similar features. This is useful for understanding the inherent structure of the data, and for example, can be used to analyze customer purchasing patterns and develop segmented marketing strategies.\n",
    "\n",
    "유사한 특징을 가진 데이터들을 같은 그룹으로 묶는 기술로, 데이터의 구조나 패턴을 발견하고 분석하는 데에 사용됩니다. 군집화는 주어진 데이터를 자동으로 분류하며, 각 군집은 비슷한 특성을 공유합니다. 이는 데이터의 내재된 구조를 파악하는 데에 유용하며, 예를 들어 고객들의 구매 패턴을 분석하여 세분화된 마케팅 전략을 수립하는 데에 활용될 수 있습니다.\n",
    "    \n",
    "> What is Association?(연관) \n",
    "\n",
    "    Association is a technique for finding the relationship between data, such as which customers purchase one product and also purchase another product.\n",
    "\n",
    "데이터들 간의 연관성을 찾아내는 기술로, 어떤 상품을 구매한 고객이 다른 상품도 함께 구매하는지 등을 파악할 수 있습니다."
   ]
  },
  {
   "cell_type": "markdown",
   "id": "8055336e",
   "metadata": {},
   "source": [
    "## What is Reinforcement Learning?(강화학습)\n",
    "Reinforcement learning is a different concept from supervised and unsupervised learning. Instead of having predetermined answers, it learns through rewards received for its actions, and learns from experience and rewards. This learning method trains autonomously to take actions that maximize rewards and learns policies for deciding what actions to take in certain situations. An example we are familiar with is AlphaGo, which can be considered reinforcement learning.\n",
    "\n",
    "강화 학습은 지도 학습과 비지도 학습과는 다른 개념입니다. 정답이 따로 정해져 있는 것이 아니라 자신이 한 행동에 대한 보상을 받으며 경험과 보상을 통해 학습합니다. 이 학습 방법은 보상을 최대화하는 행동을 취하도록 자율적으로 학습시키고, 어떤 상황에서 어떤 행동을 취해야 하는지를 결정하기 위한 정책을 학습합니다. 예시로 우리가 잘 알고 있는 알파고가 강화학습에 해당할 수 있다고 볼 수 있습니다.\n",
    "\n",
    "Machine learning can solve various problems through these three methods: supervised learning, unsupervised learning, and reinforcement learning. By appropriately selecting and applying each learning method according to the data and problem, more effective results can be obtained. These machine learning techniques are already being utilized in various fields such as image recognition, natural language processing, recommendation systems, and game strategy formulation, and improved performance and diverse applications are expected through continuous research and development.\n",
    "\n",
    "이렇게 머신러닝은 지도학습, 비지도학습, 강화학습의 세 가지 방법을 통해 다양한 문제를 해결할 수 있습니다. 각 학습 방법은 데이터와 문제에 따라 적절하게 선택하고 적용함으로써 더 효과적인 결과를 얻을 수 있습니다. 이러한 머신러닝 기법들은 이미지 인식, 자연어 처리, 추천 시스템, 게임 전략 수립 등 다양한 분야에서 활용되고 있으며, 지속적인 연구와 발전을 통해 더욱 향상된 성능과 다양한 응용이 기대됩니다."
   ]
  },
  {
   "cell_type": "markdown",
   "id": "bfff9efd",
   "metadata": {},
   "source": [
    "## Simple Machine Learning Practice\n",
    "Use the machine learning framework \"scikit-learn\" that is readily available in Python. \"scikit-learn\" supports a variety of classifiers and also has the ability to validate the results of machine learning. It also supports a variety of algorithms frequently used in machine learning, such as classification, regression, clustering, and dimensionality reduction.\n",
    "\n",
    "파이썬에서 쉽게 사용할 수 있는 머신러닝 프레임 워크 \"scikit-learn\"을 사용합니다. \"scikit-learn\"은 다양한 분류기를 지원하며, 머신러닝의 결과를 검증하는 기능도 가지고 있습니다. 또한, 분류, 회귀, 클러스터링, 차원축소처럼 머신러닝에서 자주 사용되는 다양한 알고리즘을 지원합니다.\n",
    "\n",
    "scikit-learn can install the package through the pip command.\n",
    "\n",
    "scikit-learn은 pip 명령어를 통해 패키지를 설치할 수 있습니다.\n",
    "\n",
    "```python\n",
    "!pip3 install -U scikit-learn scipy matplotlib scikit-image \n",
    "```\n",
    " \n",
    "It also installs Pandas, which can be conveniently used to read and segment data.\n",
    " \n",
    "또한, 데이터를 읽어 들이고 분할할 때 편리하게 사용할 수 있는 Pandas도 설치합니다.\n",
    "\n",
    "```python\n",
    "!pip install pandas \n",
    "```\n",
    "The following code demonstrates machine learning based on XOR operation rule data. Of course, it doesn't make much sense to train on only four data points and predict the results with these same four data points. However, we can see that the machine can learn the XOR operation, and we study the code to learn the XOR operation in order to understand the flow of machine learning.\n",
    "\n",
    "아래의 코드는 XOR 연산 규칙 데이터를 기반으로 머신러닝으로 학습시킨 것입니다. 물론 4개밖에 없는 데이터를 학습시키고, 4개의 데이터로 결과를 예측한다는 것은 큰 의미가 없습니다. 하지만 XOR 연산을 기계가 학습할 수 있다는 점을 알 수 있고, 머신러닝의 흐름을 알기 위해 XOR 연산을 학습하는 코드를 공부했습니다."
   ]
  },
  {
   "cell_type": "code",
   "execution_count": 5,
   "id": "fbeee0f6",
   "metadata": {},
   "outputs": [
    {
     "name": "stdout",
     "output_type": "stream",
     "text": [
      " 예측결과: [0 1 1 0]\n",
      "정답률: 4 / 4 = 1.0\n"
     ]
    }
   ],
   "source": [
    "from sklearn import svm\n",
    "\n",
    "# XOR의 계산 결과 데이터\n",
    "xor_data = [\n",
    "    #P, Q, result\n",
    "    [0, 0, 0],\n",
    "    [0, 1, 1],\n",
    "    [1, 0, 1],\n",
    "    [1, 1, 0]\n",
    "]\n",
    "\n",
    "# 학습을 위해 데이터와 레이블 분리하기\n",
    "data = []\n",
    "label = []\n",
    "for row in xor_data:\n",
    "    p = row[0]\n",
    "    q = row[1]\n",
    "    r = row[2]\n",
    "    data.append([p, q])\n",
    "    label.append(r)\n",
    "    \n",
    "# 데이터 학습시키기\n",
    "clf = svm.SVC()\n",
    "clf.fit(data, label)\n",
    "\n",
    "# 데이터 예측하기\n",
    "pre = clf.predict(data)\n",
    "print(\" 예측결과:\", pre)\n",
    "\n",
    "# 결과 확인하기\n",
    "ok = 0; total = 0\n",
    "for idx, answer in enumerate(label):\n",
    "    p = pre[idx]\n",
    "    if p == answer: ok += 1\n",
    "    total += 1\n",
    "print(\"정답률:\", ok, \"/\", total, \"=\", ok/total)"
   ]
  },
  {
   "cell_type": "markdown",
   "id": "17da1c1a",
   "metadata": {},
   "source": [
    "A brief description of the above code flow is shown below.\n",
    "\n",
    "위의 코드의 흐름을 간단하게 나타내면 아래와 같습니다.\n",
    "\n",
    "> Train the machine with data -> fit() method\n",
    "\n",
    "학습 기계에 데이터를 학습시킨다 -> fit() 메서드\n",
    "    \n",
    ">  Add data to predict -> predict() method\n",
    "\n",
    "데이터를 넣어 예측시킨다 -> predict() 메서드"
   ]
  },
  {
   "cell_type": "markdown",
   "id": "dea261f0",
   "metadata": {},
   "source": [
    "### Classifying Iris Species(붓꽃의 품종 분류하기)\n",
    "Next, we will attempt to classify \"iris\" plants, which are perennial plants in the iris family, part of the lily order of monocotyledonous plants. With over 150 species of iris, it is very difficult for not only the average person but also for those who know a little about flowers to classify the species. Therefore, we will use machine learning to classify the species based on the size of the petals and sepals.\n",
    "\n",
    "다음은 외떡잎식물 백합목 붓꽃과의 여러해살이 풀인 \"붓꽃\"을 분류해 보겠습니다. 붓꽃은 150종류 이상의 품종이 있어서 일반적인 사람은 물론이고 꽃을 조금 아는 사람도 품종을 분류하기 굉장히 어렵습니다. 그래서 머신러닝을 이용해 꽃잎과 꽃받침의 크기를 기반으로 분류해 보려고 합니다.\n",
    "\n",
    "We will use the famous classification dataset called \"Fisher's Iris Data\" for machine learning. The data consists of three types of iris: \"Iris-setosa\", \"Iris-versicolor\", and \"Iris-virginica\". For each iris, the length and width of the sepals and petals are recorded. The CSV file contains 150 data entries, of which 100 are used for training and 50 for testing.\n",
    "\n",
    "\"Fisher의 붓꽃 데이터\"라는 유명한 분류 데이터가 있기에 이를 이용하여 머신러닝을 수행하려고 합니다. 데이터를 보면 붓꽃은 \"Iris-setosa\", \"Iris-versicolor\",\"Iris-virginica\"라는 3가지 종류입니다. 또한 각각의 붓꽃에 대해 꽃받침의 길이, 꽃받침의 폭, 꽃잎의 길이, 꽃잎의 너비 정보가 기록되어 있습니다. 이 CSV 파일에는 150개의 데이터가 들어있는데, 100개는 학습을 위해 사용하고, 50개는 테스트를 위해 사용합니다."
   ]
  },
  {
   "cell_type": "code",
   "execution_count": 18,
   "id": "0d1d7a98",
   "metadata": {},
   "outputs": [
    {
     "name": "stdout",
     "output_type": "stream",
     "text": [
      "정답률 = 0.9736842105263158\n"
     ]
    }
   ],
   "source": [
    "import pandas as pd\n",
    "from sklearn import svm, metrics\n",
    "from sklearn.model_selection import train_test_split\n",
    "\n",
    "# 붓꽃의 CSV 데이터 읽어 들이기\n",
    "csv = pd.read_csv('iris.csv')\n",
    "\n",
    "# 필요한 열 추출하기\n",
    "csv_data = csv[[\"SepalLength\",\"SepalWidth\",\"PetalLength\",\"PetalWidth\"]]\n",
    "csv_label = csv[\"Name\"]\n",
    "\n",
    "# 학습 전용 데이터와 테스트 전용 데이터로 나누기\n",
    "train_data, test_data, train_label, test_label = \\\n",
    "train_test_split(csv_data, csv_label)\n",
    "\n",
    "# 데이터 학습시키고 예측하기\n",
    "clf = svm.SVC()\n",
    "clf.fit(train_data, train_label)\n",
    "pre = clf.predict(test_data)\n",
    "\n",
    "# 정답률 구하기\n",
    "ac_score = metrics.accuracy_score(test_label, pre)\n",
    "print(\"정답률 =\", ac_score)"
   ]
  },
  {
   "cell_type": "markdown",
   "id": "80f8f104",
   "metadata": {},
   "source": [
    "Scikit-learn provides a method to divide the data into training and testing sets. This method is the train_test_split() method in the model_selection module.\n",
    "\n",
    "scikit-learn은 훈련 전용 데이터와 테스트 전용 데이터로 분할하는 작업을 대신하는 메서드를 제공합니다. 바로 model_selection 모듈의 train_test_split() 메서드입니다.\n",
    "\n",
    "Through the XOR operation and iris species classification, we have learned the basic methods of performing machine learning. By examining the programs, we can see that they are not as difficult as they might seem. We have also learned the following three points:\n",
    "\n",
    "위의 XOR 연산과 붓꽃 품종 분류를 통해 머신러닝을 수행하는 기본적인 방법을 알아봤습니다. 프로그램들을 보면 그렇게까지 어려운 것이 아니라는 사실을 알 수 있었습니다. 그리고 아래 3가지를 알 수 있었습니다.\n",
    "\n",
    "1. Machine learning can be used to classify data.\n",
    "2. When performing supervised learning, you must specify the data and the correct labels. \n",
    "3. Convenient methods are provided for frequently used functions such as dividing training and testing data or calculating accuracy.\n",
    "\n",
    "머신러닝을 이용하면 데이터를 분류할 수 있습니다.\n",
    "지도 학습을 할 때에는 데이터와 정답 레이블을 지정해야 합니다.\n",
    "훈련 전용 데이터와 테스트 전용 데이터를 분할하거나, 정답률을 계산하는 것처럼 자주 사용하는 기능에 대해서는 편리한 메서드가 제공됩니다."
   ]
  }
 ],
 "metadata": {
  "kernelspec": {
   "display_name": "Python 3 (ipykernel)",
   "language": "python",
   "name": "python3"
  },
  "language_info": {
   "codemirror_mode": {
    "name": "ipython",
    "version": 3
   },
   "file_extension": ".py",
   "mimetype": "text/x-python",
   "name": "python",
   "nbconvert_exporter": "python",
   "pygments_lexer": "ipython3",
   "version": "3.8.10"
  }
 },
 "nbformat": 4,
 "nbformat_minor": 5
}
